{
 "cells": [
  {
   "cell_type": "code",
   "execution_count": null,
   "metadata": {},
   "outputs": [],
   "source": [
    "import CV2\n",
    "import numpy as np\n",
    "def convert_to_ascii(image_path, scale=100):\n",
    "    ascii_chars = [\"@\", \"#\", \"S\", \"%\", \"?\", \"*\", \"+\", \";\", \":\", \",\"]\n",
    "    ascii_char_count = len(ascii_chars)\n",
    "    \n",
    "    # Open the image and resize it\n",
    "    image = CV2.imread(image_path).resize((scale, scale))\n",
    "    image_array = np.array(image)\n",
    "\n",
    "    # Normalize the image array so that the values are between 0 and 1\n",
    "    image_array = image_array / 255\n",
    "\n",
    "    # Convert the image array to ASCII characters\n",
    "    result = \"\"\n",
    "    for row in image_array:\n",
    "        for pixel in row:\n",
    "            average = int(np.average(pixel) * ascii_char_count)\n",
    "            result += ascii_chars[average % ascii_char_count]\n",
    "        result += \"\\n\"\n",
    "\n",
    "    return result\n",
    "ascii_art = convert_to_ascii(\"C:\\\\Users\\\\Vadim\\\\Desktop\\\\ладноКорочеПоехалЯ.png\", scale=100)\n",
    "print(ascii_art)"
   ]
  },
  {
   "cell_type": "code",
   "execution_count": null,
   "metadata": {},
   "outputs": [],
   "source": []
  }
 ],
 "metadata": {
  "language_info": {
   "name": "python"
  },
  "orig_nbformat": 4
 },
 "nbformat": 4,
 "nbformat_minor": 2
}
